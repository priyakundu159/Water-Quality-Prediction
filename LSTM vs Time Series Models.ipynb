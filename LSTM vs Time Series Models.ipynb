{
 "cells": [
  {
   "cell_type": "code",
   "execution_count": null,
   "metadata": {},
   "outputs": [],
   "source": [
    "import openpyxl\n",
    "from openpyxl.styles import PatternFill"
   ]
  },
  {
   "cell_type": "code",
   "execution_count": 10,
   "metadata": {},
   "outputs": [
    {
     "name": "stdout",
     "output_type": "stream",
     "text": [
      "Number of RMSEs more than LSTM_RMSE in ETS - Add - 12 : 159 out of 280 values.\n",
      "Number of RMSEs more than LSTM_RMSE in ETS - Mul - 12 : 144 out of 280 values.\n",
      "Number of RMSEs more than LSTM_RMSE in ARIMA - 102 : 175 out of 280 values.\n",
      "Number of RMSEs more than LSTM_RMSE in ARIMA - 111 : 138 out of 280 values.\n",
      "Number of RMSEs more than LSTM_RMSE in ARIMA - 112 : 135 out of 280 values.\n"
     ]
    }
   ],
   "source": [
    "# Load the Excel file\n",
    "wb = openpyxl.load_workbook('/Users/priyakundu/Downloads/Accuracies.xlsx')\n",
    "\n",
    "# Get the names of all sheets except the first one\n",
    "sheet_names = wb.sheetnames[1:]\n",
    "\n",
    "# Get the first sheet\n",
    "first_sheet = wb[wb.sheetnames[0]]\n",
    "\n",
    "# Define the light blue color\n",
    "light_blue_fill = PatternFill(start_color='ADD8E6', end_color='ADD8E6', fill_type='solid')\n",
    "\n",
    "# Iterate over each sheet\n",
    "for sheet_name in sheet_names:\n",
    "    sheet = wb[sheet_name]\n",
    "    \n",
    "    # Initialize counter for highlighted cells in current sheet\n",
    "    highlighted_count = 0\n",
    "    \n",
    "    # Iterate over each row in the sheet starting from the second row\n",
    "    for row_index in range(2, sheet.max_row + 1):\n",
    "        # Iterate over each column except the first one (assuming it's the location)\n",
    "        for col_index in range(2, sheet.max_column + 1):\n",
    "            # Get the value from the current cell in the current sheet\n",
    "            current_value = sheet.cell(row=row_index, column=col_index).value\n",
    "            \n",
    "            # Get the corresponding value from the first sheet\n",
    "            reference_value = first_sheet.cell(row=row_index, column=col_index).value\n",
    "            \n",
    "            # Compare the values and apply formatting if current value is less\n",
    "            if current_value is not None and reference_value is not None:\n",
    "                if current_value > reference_value:\n",
    "                    # Apply light blue fill\n",
    "                    sheet.cell(row=row_index, column=col_index).fill = light_blue_fill\n",
    "                    # Increment the counter for highlighted cells in current sheet\n",
    "                    highlighted_count += 1\n",
    "    \n",
    "    # Print the count of highlighted cells in current sheet\n",
    "    print(\"Number of RMSEs more than LSTM_RMSE in\", sheet_name, \":\", highlighted_count, \"out of 280 values.\")"
   ]
  },
  {
   "cell_type": "code",
   "execution_count": 11,
   "metadata": {},
   "outputs": [],
   "source": [
    "# Save the modified Excel file\n",
    "wb.save('LSTM_VS_Time Series Models.xlsx')"
   ]
  },
  {
   "cell_type": "code",
   "execution_count": null,
   "metadata": {},
   "outputs": [],
   "source": []
  }
 ],
 "metadata": {
  "kernelspec": {
   "display_name": "Python 3",
   "language": "python",
   "name": "python3"
  },
  "language_info": {
   "codemirror_mode": {
    "name": "ipython",
    "version": 3
   },
   "file_extension": ".py",
   "mimetype": "text/x-python",
   "name": "python",
   "nbconvert_exporter": "python",
   "pygments_lexer": "ipython3",
   "version": "3.12.2"
  }
 },
 "nbformat": 4,
 "nbformat_minor": 2
}
